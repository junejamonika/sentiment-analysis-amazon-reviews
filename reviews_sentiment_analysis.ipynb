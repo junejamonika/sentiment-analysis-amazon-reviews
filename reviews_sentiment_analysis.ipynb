{
 "cells": [
  {
   "cell_type": "code",
   "execution_count": 1,
   "id": "6465f74b",
   "metadata": {},
   "outputs": [
    {
     "data": {
      "text/html": [
       "<div>\n",
       "<style scoped>\n",
       "    .dataframe tbody tr th:only-of-type {\n",
       "        vertical-align: middle;\n",
       "    }\n",
       "\n",
       "    .dataframe tbody tr th {\n",
       "        vertical-align: top;\n",
       "    }\n",
       "\n",
       "    .dataframe thead th {\n",
       "        text-align: right;\n",
       "    }\n",
       "</style>\n",
       "<table border=\"1\" class=\"dataframe\">\n",
       "  <thead>\n",
       "    <tr style=\"text-align: right;\">\n",
       "      <th></th>\n",
       "      <th>Serial-Number</th>\n",
       "      <th>Review-Title</th>\n",
       "      <th>rating</th>\n",
       "      <th>Review-Body</th>\n",
       "      <th>Product Name</th>\n",
       "    </tr>\n",
       "  </thead>\n",
       "  <tbody>\n",
       "    <tr>\n",
       "      <th>0</th>\n",
       "      <td>0</td>\n",
       "      <td>Worst phone ever</td>\n",
       "      <td>1.0 out of 5 stars</td>\n",
       "      <td>Hang problem</td>\n",
       "      <td>OnePlus Nord CE 2 5G (Gray Mirror, 8GB RAM, 12...</td>\n",
       "    </tr>\n",
       "    <tr>\n",
       "      <th>1</th>\n",
       "      <td>1</td>\n",
       "      <td>Ok !!! Not up to the mark</td>\n",
       "      <td>2.0 out of 5 stars</td>\n",
       "      <td>I'm writing this review after using 3days !!!B...</td>\n",
       "      <td>OnePlus Nord CE 2 5G (Gray Mirror, 8GB RAM, 12...</td>\n",
       "    </tr>\n",
       "    <tr>\n",
       "      <th>2</th>\n",
       "      <td>2</td>\n",
       "      <td>Awesome look</td>\n",
       "      <td>5.0 out of 5 stars</td>\n",
       "      <td>Camera is so good n very fast phone back look ...</td>\n",
       "      <td>OnePlus Nord CE 2 5G (Gray Mirror, 8GB RAM, 12...</td>\n",
       "    </tr>\n",
       "    <tr>\n",
       "      <th>3</th>\n",
       "      <td>3</td>\n",
       "      <td>One plus losing is originality!!!</td>\n",
       "      <td>3.0 out of 5 stars</td>\n",
       "      <td>The media could not be loaded.\\r\\n            ...</td>\n",
       "      <td>OnePlus Nord CE 2 5G (Gray Mirror, 8GB RAM, 12...</td>\n",
       "    </tr>\n",
       "    <tr>\n",
       "      <th>4</th>\n",
       "      <td>4</td>\n",
       "      <td>Read</td>\n",
       "      <td>1.0 out of 5 stars</td>\n",
       "      <td>I got my delivery on 23 feb when I unboxed the...</td>\n",
       "      <td>OnePlus Nord CE 2 5G (Gray Mirror, 8GB RAM, 12...</td>\n",
       "    </tr>\n",
       "  </tbody>\n",
       "</table>\n",
       "</div>"
      ],
      "text/plain": [
       "   Serial-Number                       Review-Title              rating  \\\n",
       "0              0                   Worst phone ever  1.0 out of 5 stars   \n",
       "1              1          Ok !!! Not up to the mark  2.0 out of 5 stars   \n",
       "2              2                       Awesome look  5.0 out of 5 stars   \n",
       "3              3  One plus losing is originality!!!  3.0 out of 5 stars   \n",
       "4              4                               Read  1.0 out of 5 stars   \n",
       "\n",
       "                                         Review-Body  \\\n",
       "0                                       Hang problem   \n",
       "1  I'm writing this review after using 3days !!!B...   \n",
       "2  Camera is so good n very fast phone back look ...   \n",
       "3  The media could not be loaded.\\r\\n            ...   \n",
       "4  I got my delivery on 23 feb when I unboxed the...   \n",
       "\n",
       "                                        Product Name  \n",
       "0  OnePlus Nord CE 2 5G (Gray Mirror, 8GB RAM, 12...  \n",
       "1  OnePlus Nord CE 2 5G (Gray Mirror, 8GB RAM, 12...  \n",
       "2  OnePlus Nord CE 2 5G (Gray Mirror, 8GB RAM, 12...  \n",
       "3  OnePlus Nord CE 2 5G (Gray Mirror, 8GB RAM, 12...  \n",
       "4  OnePlus Nord CE 2 5G (Gray Mirror, 8GB RAM, 12...  "
      ]
     },
     "execution_count": 1,
     "metadata": {},
     "output_type": "execute_result"
    }
   ],
   "source": [
    "import pandas as pd\n",
    "import matplotlib.pyplot as plt\n",
    "df = pd.read_csv('data/mobile_reviews_sample_data.csv', encoding='ISO-8859-1')\n",
    "df.head()"
   ]
  },
  {
   "cell_type": "markdown",
   "id": "7aa8b9ff",
   "metadata": {},
   "source": [
    "# Dropping rows that contain NULL values"
   ]
  },
  {
   "cell_type": "code",
   "execution_count": 2,
   "id": "cbb283bf",
   "metadata": {},
   "outputs": [
    {
     "name": "stdout",
     "output_type": "stream",
     "text": [
      "<class 'pandas.core.frame.DataFrame'>\n",
      "RangeIndex: 23777 entries, 0 to 23776\n",
      "Data columns (total 5 columns):\n",
      " #   Column         Non-Null Count  Dtype \n",
      "---  ------         --------------  ----- \n",
      " 0   Serial-Number  23777 non-null  int64 \n",
      " 1   Review-Title   23775 non-null  object\n",
      " 2   rating         23777 non-null  object\n",
      " 3   Review-Body    23160 non-null  object\n",
      " 4   Product Name   23777 non-null  object\n",
      "dtypes: int64(1), object(4)\n",
      "memory usage: 928.9+ KB\n"
     ]
    }
   ],
   "source": [
    "df.info()"
   ]
  },
  {
   "cell_type": "code",
   "execution_count": 3,
   "id": "2668c4db",
   "metadata": {},
   "outputs": [],
   "source": [
    "df.dropna(inplace=True)"
   ]
  },
  {
   "cell_type": "code",
   "execution_count": 4,
   "id": "e1028f0f",
   "metadata": {},
   "outputs": [
    {
     "name": "stdout",
     "output_type": "stream",
     "text": [
      "<class 'pandas.core.frame.DataFrame'>\n",
      "Int64Index: 23159 entries, 0 to 23776\n",
      "Data columns (total 5 columns):\n",
      " #   Column         Non-Null Count  Dtype \n",
      "---  ------         --------------  ----- \n",
      " 0   Serial-Number  23159 non-null  int64 \n",
      " 1   Review-Title   23159 non-null  object\n",
      " 2   rating         23159 non-null  object\n",
      " 3   Review-Body    23159 non-null  object\n",
      " 4   Product Name   23159 non-null  object\n",
      "dtypes: int64(1), object(4)\n",
      "memory usage: 1.1+ MB\n"
     ]
    }
   ],
   "source": [
    "df.info()"
   ]
  },
  {
   "cell_type": "markdown",
   "id": "f4df57ba-0116-45b2-bb9f-a400d7d9828c",
   "metadata": {},
   "source": [
    "# Insert new columns"
   ]
  },
  {
   "cell_type": "code",
   "execution_count": 5,
   "id": "2d6f1b8e-5d66-43af-8ad4-f56fb4f05bc0",
   "metadata": {},
   "outputs": [
    {
     "data": {
      "text/html": [
       "<div>\n",
       "<style scoped>\n",
       "    .dataframe tbody tr th:only-of-type {\n",
       "        vertical-align: middle;\n",
       "    }\n",
       "\n",
       "    .dataframe tbody tr th {\n",
       "        vertical-align: top;\n",
       "    }\n",
       "\n",
       "    .dataframe thead th {\n",
       "        text-align: right;\n",
       "    }\n",
       "</style>\n",
       "<table border=\"1\" class=\"dataframe\">\n",
       "  <thead>\n",
       "    <tr style=\"text-align: right;\">\n",
       "      <th></th>\n",
       "      <th>Serial-Number</th>\n",
       "      <th>Review-Title</th>\n",
       "      <th>rating</th>\n",
       "      <th>Review-Body</th>\n",
       "      <th>Product Name</th>\n",
       "      <th>Product</th>\n",
       "      <th>Variant</th>\n",
       "      <th>Ratings</th>\n",
       "      <th>Color</th>\n",
       "      <th>Ram</th>\n",
       "      <th>Rom</th>\n",
       "    </tr>\n",
       "  </thead>\n",
       "  <tbody>\n",
       "    <tr>\n",
       "      <th>0</th>\n",
       "      <td>0</td>\n",
       "      <td>Worst phone ever</td>\n",
       "      <td>1.0 out of 5 stars</td>\n",
       "      <td>Hang problem</td>\n",
       "      <td>OnePlus Nord CE 2 5G (Gray Mirror, 8GB RAM, 12...</td>\n",
       "      <td>OnePlus Nord CE 2 5G</td>\n",
       "      <td>Gray Mirror, 8GB RAM, 128GB Storage</td>\n",
       "      <td>1.0</td>\n",
       "      <td>Gray Mirror</td>\n",
       "      <td>8GB RAM</td>\n",
       "      <td>128GB Storage</td>\n",
       "    </tr>\n",
       "    <tr>\n",
       "      <th>1</th>\n",
       "      <td>1</td>\n",
       "      <td>Ok !!! Not up to the mark</td>\n",
       "      <td>2.0 out of 5 stars</td>\n",
       "      <td>I'm writing this review after using 3days !!!B...</td>\n",
       "      <td>OnePlus Nord CE 2 5G (Gray Mirror, 8GB RAM, 12...</td>\n",
       "      <td>OnePlus Nord CE 2 5G</td>\n",
       "      <td>Gray Mirror, 8GB RAM, 128GB Storage</td>\n",
       "      <td>2.0</td>\n",
       "      <td>Gray Mirror</td>\n",
       "      <td>8GB RAM</td>\n",
       "      <td>128GB Storage</td>\n",
       "    </tr>\n",
       "    <tr>\n",
       "      <th>2</th>\n",
       "      <td>2</td>\n",
       "      <td>Awesome look</td>\n",
       "      <td>5.0 out of 5 stars</td>\n",
       "      <td>Camera is so good n very fast phone back look ...</td>\n",
       "      <td>OnePlus Nord CE 2 5G (Gray Mirror, 8GB RAM, 12...</td>\n",
       "      <td>OnePlus Nord CE 2 5G</td>\n",
       "      <td>Gray Mirror, 8GB RAM, 128GB Storage</td>\n",
       "      <td>5.0</td>\n",
       "      <td>Gray Mirror</td>\n",
       "      <td>8GB RAM</td>\n",
       "      <td>128GB Storage</td>\n",
       "    </tr>\n",
       "    <tr>\n",
       "      <th>3</th>\n",
       "      <td>3</td>\n",
       "      <td>One plus losing is originality!!!</td>\n",
       "      <td>3.0 out of 5 stars</td>\n",
       "      <td>The media could not be loaded.\\r\\n            ...</td>\n",
       "      <td>OnePlus Nord CE 2 5G (Gray Mirror, 8GB RAM, 12...</td>\n",
       "      <td>OnePlus Nord CE 2 5G</td>\n",
       "      <td>Gray Mirror, 8GB RAM, 128GB Storage</td>\n",
       "      <td>3.0</td>\n",
       "      <td>Gray Mirror</td>\n",
       "      <td>8GB RAM</td>\n",
       "      <td>128GB Storage</td>\n",
       "    </tr>\n",
       "    <tr>\n",
       "      <th>4</th>\n",
       "      <td>4</td>\n",
       "      <td>Read</td>\n",
       "      <td>1.0 out of 5 stars</td>\n",
       "      <td>I got my delivery on 23 feb when I unboxed the...</td>\n",
       "      <td>OnePlus Nord CE 2 5G (Gray Mirror, 8GB RAM, 12...</td>\n",
       "      <td>OnePlus Nord CE 2 5G</td>\n",
       "      <td>Gray Mirror, 8GB RAM, 128GB Storage</td>\n",
       "      <td>1.0</td>\n",
       "      <td>Gray Mirror</td>\n",
       "      <td>8GB RAM</td>\n",
       "      <td>128GB Storage</td>\n",
       "    </tr>\n",
       "  </tbody>\n",
       "</table>\n",
       "</div>"
      ],
      "text/plain": [
       "   Serial-Number                       Review-Title              rating  \\\n",
       "0              0                   Worst phone ever  1.0 out of 5 stars   \n",
       "1              1          Ok !!! Not up to the mark  2.0 out of 5 stars   \n",
       "2              2                       Awesome look  5.0 out of 5 stars   \n",
       "3              3  One plus losing is originality!!!  3.0 out of 5 stars   \n",
       "4              4                               Read  1.0 out of 5 stars   \n",
       "\n",
       "                                         Review-Body  \\\n",
       "0                                       Hang problem   \n",
       "1  I'm writing this review after using 3days !!!B...   \n",
       "2  Camera is so good n very fast phone back look ...   \n",
       "3  The media could not be loaded.\\r\\n            ...   \n",
       "4  I got my delivery on 23 feb when I unboxed the...   \n",
       "\n",
       "                                        Product Name               Product  \\\n",
       "0  OnePlus Nord CE 2 5G (Gray Mirror, 8GB RAM, 12...  OnePlus Nord CE 2 5G   \n",
       "1  OnePlus Nord CE 2 5G (Gray Mirror, 8GB RAM, 12...  OnePlus Nord CE 2 5G   \n",
       "2  OnePlus Nord CE 2 5G (Gray Mirror, 8GB RAM, 12...  OnePlus Nord CE 2 5G   \n",
       "3  OnePlus Nord CE 2 5G (Gray Mirror, 8GB RAM, 12...  OnePlus Nord CE 2 5G   \n",
       "4  OnePlus Nord CE 2 5G (Gray Mirror, 8GB RAM, 12...  OnePlus Nord CE 2 5G   \n",
       "\n",
       "                               Variant  Ratings        Color      Ram  \\\n",
       "0  Gray Mirror, 8GB RAM, 128GB Storage      1.0  Gray Mirror  8GB RAM   \n",
       "1  Gray Mirror, 8GB RAM, 128GB Storage      2.0  Gray Mirror  8GB RAM   \n",
       "2  Gray Mirror, 8GB RAM, 128GB Storage      5.0  Gray Mirror  8GB RAM   \n",
       "3  Gray Mirror, 8GB RAM, 128GB Storage      3.0  Gray Mirror  8GB RAM   \n",
       "4  Gray Mirror, 8GB RAM, 128GB Storage      1.0  Gray Mirror  8GB RAM   \n",
       "\n",
       "             Rom  \n",
       "0  128GB Storage  \n",
       "1  128GB Storage  \n",
       "2  128GB Storage  \n",
       "3  128GB Storage  \n",
       "4  128GB Storage  "
      ]
     },
     "execution_count": 5,
     "metadata": {},
     "output_type": "execute_result"
    }
   ],
   "source": [
    "def preprocessing(df):\n",
    "    names = []\n",
    "    variants = []\n",
    "    ratings = []\n",
    "    for i in df['Product Name']:\n",
    "        info = i.split('(')\n",
    "        names.append(str(info[0].strip()))\n",
    "        try:\n",
    "            variants.append(info[1].strip().split(')')[0])\n",
    "        except IndexError:\n",
    "            variants.append(\"Not Available\")\n",
    "        \n",
    "    for i in df['rating']:\n",
    "        points = i.split()[0]\n",
    "        ratings.append(float(points))\n",
    "\n",
    "    df['Product'] = names\n",
    "    df['Variant'] = variants\n",
    "    df['Ratings'] = ratings\n",
    "\n",
    "    df[['Color', 'Ram', 'Rom']] = df['Variant'].str.split(', |\\+ ', expand=True)\n",
    "\n",
    "    return df\n",
    "\n",
    "df = preprocessing(df)\n",
    "df.head()"
   ]
  },
  {
   "cell_type": "markdown",
   "id": "c84f27df",
   "metadata": {},
   "source": [
    "# Dropping Unwanted Colums"
   ]
  },
  {
   "cell_type": "code",
   "execution_count": 6,
   "id": "59e3f13f",
   "metadata": {},
   "outputs": [
    {
     "data": {
      "text/html": [
       "<div>\n",
       "<style scoped>\n",
       "    .dataframe tbody tr th:only-of-type {\n",
       "        vertical-align: middle;\n",
       "    }\n",
       "\n",
       "    .dataframe tbody tr th {\n",
       "        vertical-align: top;\n",
       "    }\n",
       "\n",
       "    .dataframe thead th {\n",
       "        text-align: right;\n",
       "    }\n",
       "</style>\n",
       "<table border=\"1\" class=\"dataframe\">\n",
       "  <thead>\n",
       "    <tr style=\"text-align: right;\">\n",
       "      <th></th>\n",
       "      <th>Review-Title</th>\n",
       "      <th>Review-Body</th>\n",
       "      <th>Product</th>\n",
       "      <th>Ratings</th>\n",
       "      <th>Color</th>\n",
       "      <th>Ram</th>\n",
       "      <th>Rom</th>\n",
       "    </tr>\n",
       "  </thead>\n",
       "  <tbody>\n",
       "    <tr>\n",
       "      <th>0</th>\n",
       "      <td>Worst phone ever</td>\n",
       "      <td>Hang problem</td>\n",
       "      <td>OnePlus Nord CE 2 5G</td>\n",
       "      <td>1.0</td>\n",
       "      <td>Gray Mirror</td>\n",
       "      <td>8GB RAM</td>\n",
       "      <td>128GB Storage</td>\n",
       "    </tr>\n",
       "    <tr>\n",
       "      <th>1</th>\n",
       "      <td>Ok !!! Not up to the mark</td>\n",
       "      <td>I'm writing this review after using 3days !!!B...</td>\n",
       "      <td>OnePlus Nord CE 2 5G</td>\n",
       "      <td>2.0</td>\n",
       "      <td>Gray Mirror</td>\n",
       "      <td>8GB RAM</td>\n",
       "      <td>128GB Storage</td>\n",
       "    </tr>\n",
       "    <tr>\n",
       "      <th>2</th>\n",
       "      <td>Awesome look</td>\n",
       "      <td>Camera is so good n very fast phone back look ...</td>\n",
       "      <td>OnePlus Nord CE 2 5G</td>\n",
       "      <td>5.0</td>\n",
       "      <td>Gray Mirror</td>\n",
       "      <td>8GB RAM</td>\n",
       "      <td>128GB Storage</td>\n",
       "    </tr>\n",
       "    <tr>\n",
       "      <th>3</th>\n",
       "      <td>One plus losing is originality!!!</td>\n",
       "      <td>The media could not be loaded.\\r\\n            ...</td>\n",
       "      <td>OnePlus Nord CE 2 5G</td>\n",
       "      <td>3.0</td>\n",
       "      <td>Gray Mirror</td>\n",
       "      <td>8GB RAM</td>\n",
       "      <td>128GB Storage</td>\n",
       "    </tr>\n",
       "    <tr>\n",
       "      <th>4</th>\n",
       "      <td>Read</td>\n",
       "      <td>I got my delivery on 23 feb when I unboxed the...</td>\n",
       "      <td>OnePlus Nord CE 2 5G</td>\n",
       "      <td>1.0</td>\n",
       "      <td>Gray Mirror</td>\n",
       "      <td>8GB RAM</td>\n",
       "      <td>128GB Storage</td>\n",
       "    </tr>\n",
       "  </tbody>\n",
       "</table>\n",
       "</div>"
      ],
      "text/plain": [
       "                        Review-Title  \\\n",
       "0                   Worst phone ever   \n",
       "1          Ok !!! Not up to the mark   \n",
       "2                       Awesome look   \n",
       "3  One plus losing is originality!!!   \n",
       "4                               Read   \n",
       "\n",
       "                                         Review-Body               Product  \\\n",
       "0                                       Hang problem  OnePlus Nord CE 2 5G   \n",
       "1  I'm writing this review after using 3days !!!B...  OnePlus Nord CE 2 5G   \n",
       "2  Camera is so good n very fast phone back look ...  OnePlus Nord CE 2 5G   \n",
       "3  The media could not be loaded.\\r\\n            ...  OnePlus Nord CE 2 5G   \n",
       "4  I got my delivery on 23 feb when I unboxed the...  OnePlus Nord CE 2 5G   \n",
       "\n",
       "   Ratings        Color      Ram            Rom  \n",
       "0      1.0  Gray Mirror  8GB RAM  128GB Storage  \n",
       "1      2.0  Gray Mirror  8GB RAM  128GB Storage  \n",
       "2      5.0  Gray Mirror  8GB RAM  128GB Storage  \n",
       "3      3.0  Gray Mirror  8GB RAM  128GB Storage  \n",
       "4      1.0  Gray Mirror  8GB RAM  128GB Storage  "
      ]
     },
     "execution_count": 6,
     "metadata": {},
     "output_type": "execute_result"
    }
   ],
   "source": [
    "df.drop(columns=['Serial-Number', 'rating', 'Product Name', 'Variant'], inplace=True, errors='ignore')\n",
    "df.head()"
   ]
  },
  {
   "cell_type": "markdown",
   "id": "a76e0ee2-2f13-4185-b1ea-db43e774b8de",
   "metadata": {},
   "source": [
    "# Rename Columns"
   ]
  },
  {
   "cell_type": "code",
   "execution_count": 7,
   "id": "5b24d0a1-1a1a-4a77-9b69-47b09facc14d",
   "metadata": {},
   "outputs": [
    {
     "data": {
      "text/html": [
       "<div>\n",
       "<style scoped>\n",
       "    .dataframe tbody tr th:only-of-type {\n",
       "        vertical-align: middle;\n",
       "    }\n",
       "\n",
       "    .dataframe tbody tr th {\n",
       "        vertical-align: top;\n",
       "    }\n",
       "\n",
       "    .dataframe thead th {\n",
       "        text-align: right;\n",
       "    }\n",
       "</style>\n",
       "<table border=\"1\" class=\"dataframe\">\n",
       "  <thead>\n",
       "    <tr style=\"text-align: right;\">\n",
       "      <th></th>\n",
       "      <th>Title</th>\n",
       "      <th>Review</th>\n",
       "      <th>Product</th>\n",
       "      <th>Ratings</th>\n",
       "      <th>Color</th>\n",
       "      <th>Ram</th>\n",
       "      <th>Rom</th>\n",
       "    </tr>\n",
       "  </thead>\n",
       "  <tbody>\n",
       "    <tr>\n",
       "      <th>0</th>\n",
       "      <td>Worst phone ever</td>\n",
       "      <td>Hang problem</td>\n",
       "      <td>OnePlus Nord CE 2 5G</td>\n",
       "      <td>1.0</td>\n",
       "      <td>Gray Mirror</td>\n",
       "      <td>8GB RAM</td>\n",
       "      <td>128GB Storage</td>\n",
       "    </tr>\n",
       "    <tr>\n",
       "      <th>1</th>\n",
       "      <td>Ok !!! Not up to the mark</td>\n",
       "      <td>I'm writing this review after using 3days !!!B...</td>\n",
       "      <td>OnePlus Nord CE 2 5G</td>\n",
       "      <td>2.0</td>\n",
       "      <td>Gray Mirror</td>\n",
       "      <td>8GB RAM</td>\n",
       "      <td>128GB Storage</td>\n",
       "    </tr>\n",
       "    <tr>\n",
       "      <th>2</th>\n",
       "      <td>Awesome look</td>\n",
       "      <td>Camera is so good n very fast phone back look ...</td>\n",
       "      <td>OnePlus Nord CE 2 5G</td>\n",
       "      <td>5.0</td>\n",
       "      <td>Gray Mirror</td>\n",
       "      <td>8GB RAM</td>\n",
       "      <td>128GB Storage</td>\n",
       "    </tr>\n",
       "    <tr>\n",
       "      <th>3</th>\n",
       "      <td>One plus losing is originality!!!</td>\n",
       "      <td>The media could not be loaded.\\r\\n            ...</td>\n",
       "      <td>OnePlus Nord CE 2 5G</td>\n",
       "      <td>3.0</td>\n",
       "      <td>Gray Mirror</td>\n",
       "      <td>8GB RAM</td>\n",
       "      <td>128GB Storage</td>\n",
       "    </tr>\n",
       "    <tr>\n",
       "      <th>4</th>\n",
       "      <td>Read</td>\n",
       "      <td>I got my delivery on 23 feb when I unboxed the...</td>\n",
       "      <td>OnePlus Nord CE 2 5G</td>\n",
       "      <td>1.0</td>\n",
       "      <td>Gray Mirror</td>\n",
       "      <td>8GB RAM</td>\n",
       "      <td>128GB Storage</td>\n",
       "    </tr>\n",
       "  </tbody>\n",
       "</table>\n",
       "</div>"
      ],
      "text/plain": [
       "                               Title  \\\n",
       "0                   Worst phone ever   \n",
       "1          Ok !!! Not up to the mark   \n",
       "2                       Awesome look   \n",
       "3  One plus losing is originality!!!   \n",
       "4                               Read   \n",
       "\n",
       "                                              Review               Product  \\\n",
       "0                                       Hang problem  OnePlus Nord CE 2 5G   \n",
       "1  I'm writing this review after using 3days !!!B...  OnePlus Nord CE 2 5G   \n",
       "2  Camera is so good n very fast phone back look ...  OnePlus Nord CE 2 5G   \n",
       "3  The media could not be loaded.\\r\\n            ...  OnePlus Nord CE 2 5G   \n",
       "4  I got my delivery on 23 feb when I unboxed the...  OnePlus Nord CE 2 5G   \n",
       "\n",
       "   Ratings        Color      Ram            Rom  \n",
       "0      1.0  Gray Mirror  8GB RAM  128GB Storage  \n",
       "1      2.0  Gray Mirror  8GB RAM  128GB Storage  \n",
       "2      5.0  Gray Mirror  8GB RAM  128GB Storage  \n",
       "3      3.0  Gray Mirror  8GB RAM  128GB Storage  \n",
       "4      1.0  Gray Mirror  8GB RAM  128GB Storage  "
      ]
     },
     "execution_count": 7,
     "metadata": {},
     "output_type": "execute_result"
    }
   ],
   "source": [
    "df.rename(columns={'Review-Title': 'Title', 'Review-Body': 'Review'}, inplace=True)\n",
    "df.head()"
   ]
  },
  {
   "cell_type": "markdown",
   "id": "72c3289e-8d90-4724-9c9d-f1e74c7dd77c",
   "metadata": {},
   "source": [
    "# Review Count based on Product"
   ]
  },
  {
   "cell_type": "code",
   "execution_count": 8,
   "id": "f21a3b44-23c0-42aa-885e-544e2779ac0d",
   "metadata": {},
   "outputs": [
    {
     "data": {
      "text/plain": [
       "Product\n",
       "Redmi 9 Activ           4450\n",
       "OPPO A31                4273\n",
       "Redmi 10 Prime          3597\n",
       "OnePlus Nord CE 2 5G    3396\n",
       "Redmi Note 11           2642\n",
       "realme narzo 50A        2100\n",
       "vivo iQOO Z6 5G         1365\n",
       "Samsung Galaxy M32      1336\n",
       "dtype: int64"
      ]
     },
     "execution_count": 8,
     "metadata": {},
     "output_type": "execute_result"
    }
   ],
   "source": [
    "df.value_counts('Product')"
   ]
  },
  {
   "cell_type": "code",
   "execution_count": 9,
   "id": "1cf5c642-53f8-4297-8e0a-c82f1d4c5fea",
   "metadata": {},
   "outputs": [
    {
     "data": {
      "image/png": "[encoded data removed]",
      "text/plain": [
       "<Figure size 640x480 with 1 Axes>"
      ]
     },
     "metadata": {},
     "output_type": "display_data"
    }
   ],
   "source": [
    "df.value_counts('Product').plot(kind='bar', title='Reviews Count based on product', xlabel='Product', ylabel='Review')\n",
    "plt.show()"
   ]
  },
  {
   "cell_type": "markdown",
   "id": "eb5aebf8-c4ae-431e-9c02-0a54c063e55e",
   "metadata": {},
   "source": [
    "# Average rating for each Product"
   ]
  },
  {
   "cell_type": "code",
   "execution_count": 12,
   "id": "4edeaadd-8348-4977-8f81-64ed0c1e699b",
   "metadata": {},
   "outputs": [
    {
     "data": {
      "image/png": "[encoded data removed]",
      "text/plain": [
       "<Figure size 640x480 with 1 Axes>"
      ]
     },
     "metadata": {},
     "output_type": "display_data"
    }
   ],
   "source": [
    "df.groupby('Product')['Ratings'].mean().plot(kind='bar', title='Rating for each Product', xlabel='Product', ylabel='Rating')\n",
    "plt.show()"
   ]
  },
  {
   "cell_type": "code",
   "execution_count": null,
   "id": "2f27aeed-1df3-4783-b7d0-b9186ef5ff94",
   "metadata": {},
   "outputs": [],
   "source": []
  }
 ],
 "metadata": {
  "kernelspec": {
   "display_name": "Python 3 (ipykernel)",
   "language": "python",
   "name": "python3"
  },
  "language_info": {
   "codemirror_mode": {
    "name": "ipython",
    "version": 3
   },
   "file_extension": ".py",
   "mimetype": "text/x-python",
   "name": "python",
   "nbconvert_exporter": "python",
   "pygments_lexer": "ipython3",
   "version": "3.11.0"
  }
 },
 "nbformat": 4,
 "nbformat_minor": 5
}
